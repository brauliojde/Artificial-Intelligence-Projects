{
 "cells": [
  {
   "cell_type": "markdown",
   "metadata": {},
   "source": [
    "# Imports"
   ]
  },
  {
   "cell_type": "code",
   "execution_count": 2,
   "metadata": {
    "ExecuteTime": {
     "end_time": "2018-03-01T18:53:22.540899Z",
     "start_time": "2018-03-01T18:53:20.333556Z"
    },
    "collapsed": true
   },
   "outputs": [],
   "source": [
    "import numpy as np"
   ]
  },
  {
   "cell_type": "markdown",
   "metadata": {},
   "source": [
    "# Forward Filtering"
   ]
  },
  {
   "cell_type": "code",
   "execution_count": 84,
   "metadata": {
    "ExecuteTime": {
     "end_time": "2018-03-01T22:28:46.159683Z",
     "start_time": "2018-03-01T22:28:46.152578Z"
    },
    "collapsed": false
   },
   "outputs": [],
   "source": [
    "rows = 3 # amount of rows of the grid\n",
    "columns = 3 # amount of columns of the grid\n",
    "\n",
    "start_probability = 1/(rows * columns * 4)\n",
    "f_old = np.array([[start_probability] for x in range((rows * columns * 4))])\n",
    "\n"
   ]
  },
  {
   "cell_type": "code",
   "execution_count": 91,
   "metadata": {
    "ExecuteTime": {
     "end_time": "2018-03-01T22:38:08.203873Z",
     "start_time": "2018-03-01T22:38:08.194891Z"
    },
    "collapsed": false
   },
   "outputs": [
    {
     "data": {
      "text/plain": [
       "array([[ 0.,  0.,  0., ...,  0.,  0.,  0.],\n",
       "       [ 0.,  0.,  0., ...,  0.,  0.,  0.],\n",
       "       [ 0.,  0.,  0., ...,  0.,  0.,  0.],\n",
       "       ..., \n",
       "       [ 0.,  0.,  0., ...,  0.,  0.,  0.],\n",
       "       [ 0.,  0.,  0., ...,  0.,  0.,  0.],\n",
       "       [ 0.,  0.,  0., ...,  0.,  0.,  0.]])"
      ]
     },
     "execution_count": 91,
     "metadata": {},
     "output_type": "execute_result"
    }
   ],
   "source": [
    "transition_matrix(rows,columns)\n"
   ]
  },
  {
   "cell_type": "code",
   "execution_count": 90,
   "metadata": {
    "ExecuteTime": {
     "end_time": "2018-03-01T22:38:06.224621Z",
     "start_time": "2018-03-01T22:38:06.138738Z"
    },
    "code_folding": [],
    "collapsed": false
   },
   "outputs": [],
   "source": [
    "def transition_matrix(rows,columns):\n",
    "    '''\n",
    "    calculates the transistion matrix\n",
    "    \n",
    "    '''\n",
    "    rows_transition = rows*columns*4\n",
    "    columns_transition = rows_transition\n",
    "    T = np.zeros((rows_transition,columns_transition))\n",
    "\n",
    "    for n in range(rows_transition):\n",
    "        t = n % 4 # gives the heading t = 0: north t = 1 East t = 2 South T=3 West\n",
    "        direction_change = False\n",
    "        headings = [False,False,False,False]\n",
    "        walls = 0\n",
    "        if n-4*rows < 0:\n",
    "            headings[0] =  0\n",
    "            walls += 1\n",
    "            if t == 0:\n",
    "                direction_change = True\n",
    "        if n%(4*columns)+4  >= 4*columns:\n",
    "            headings[1] = 0\n",
    "            walls += 1\n",
    "            if t == 1:\n",
    "                direction_change = True\n",
    "        if (n-t)+4*rows > 4*rows*columns:\n",
    "            headings[2] = 0\n",
    "            walls += 1\n",
    "            if t == 2:\n",
    "                direction_change = True\n",
    "        \n",
    "        if n%(4*columns)-4 < 0:\n",
    "            headings[3] = 0\n",
    "            walls += 1\n",
    "            if t == 3:\n",
    "                direction_change = True\n",
    "        \n",
    "\n",
    "        for i,e in enumerate(headings):\n",
    "            if direction_change:\n",
    "                if e is False:\n",
    "                    headings[i] = 1/(4-walls)\n",
    "            elif e is False: \n",
    "                if i == t:\n",
    "                    headings[i] = 0.7\n",
    "                else:\n",
    "                    headings[i] = 0.3/(3-walls)\n",
    "\n",
    "        #north           \n",
    "        try:\n",
    "            T[n,(n-t)-4*rows ] =  headings[0] \n",
    "        except IndexError:\n",
    "            continue\n",
    "        #east\n",
    "        try:\n",
    "            T[n,(n-t+1) +4] = headings[1]\n",
    "        except IndexError:\n",
    "            continue\n",
    "        #south\n",
    "        try:\n",
    "            T[n,(n-t+2)+4*rows] = headings[2] \n",
    "        except IndexError:\n",
    "            continue\n",
    "        #west\n",
    "        try:\n",
    "            T[n,(n-t+3)-4] = headings[3]\n",
    "        except IndexError:\n",
    "            continue\n",
    "    \n",
    "\n",
    "        \n",
    "    return T\n",
    "            \n",
    "            \n"
   ]
  },
  {
   "cell_type": "code",
   "execution_count": 190,
   "metadata": {
    "ExecuteTime": {
     "end_time": "2018-03-02T11:39:44.252820Z",
     "start_time": "2018-03-02T11:39:44.240391Z"
    },
    "collapsed": false
   },
   "outputs": [
    {
     "name": "stdout",
     "output_type": "stream",
     "text": [
      "[[ 0.625  0.5    0.5    0.625]\n",
      " [ 0.5    0.325  0.325  0.5  ]\n",
      " [ 0.5    0.325  0.325  0.5  ]\n",
      " [ 0.625  0.5    0.5    0.625]]\n"
     ]
    },
    {
     "data": {
      "text/plain": [
       "array([[ 0.625,  0.   ,  0.   , ...,  0.   ,  0.   ,  0.   ],\n",
       "       [ 0.   ,  0.625,  0.   , ...,  0.   ,  0.   ,  0.   ],\n",
       "       [ 0.   ,  0.   ,  0.625, ...,  0.   ,  0.   ,  0.   ],\n",
       "       ..., \n",
       "       [ 0.   ,  0.   ,  0.   , ...,  0.625,  0.   ,  0.   ],\n",
       "       [ 0.   ,  0.   ,  0.   , ...,  0.   ,  0.625,  0.   ],\n",
       "       [ 0.   ,  0.   ,  0.   , ...,  0.   ,  0.   ,  0.625]])"
      ]
     },
     "execution_count": 190,
     "metadata": {},
     "output_type": "execute_result"
    }
   ],
   "source": [
    "observation_matrix(4,4)"
   ]
  },
  {
   "cell_type": "code",
   "execution_count": 165,
   "metadata": {
    "ExecuteTime": {
     "end_time": "2018-03-02T11:14:49.322602Z",
     "start_time": "2018-03-02T11:14:49.315162Z"
    },
    "collapsed": true
   },
   "outputs": [],
   "source": [
    "def distance(start,end):\n",
    "    max = abs(start[0]-end[0])\n",
    "    if abs(start[1]-end[1]) > max:\n",
    "        max = abs(start[1]-end[1])\n",
    "    return max"
   ]
  },
  {
   "cell_type": "code",
   "execution_count": 168,
   "metadata": {
    "ExecuteTime": {
     "end_time": "2018-03-02T11:14:57.692973Z",
     "start_time": "2018-03-02T11:14:57.689134Z"
    },
    "collapsed": false
   },
   "outputs": [
    {
     "name": "stdout",
     "output_type": "stream",
     "text": [
      "3\n"
     ]
    }
   ],
   "source": [
    "print(distance((1,2),(1,5)))"
   ]
  },
  {
   "cell_type": "code",
   "execution_count": 200,
   "metadata": {
    "ExecuteTime": {
     "end_time": "2018-03-02T11:53:01.437137Z",
     "start_time": "2018-03-02T11:53:01.343089Z"
    },
    "collapsed": false
   },
   "outputs": [],
   "source": [
    "def observation_matrix(e, rows, columns):\n",
    "    rows_observation = rows*columns*4\n",
    "    columns_observation = rows_observation\n",
    "    O = []\n",
    "    for m in range(rows):\n",
    "        for n in range(columns):\n",
    "            O_i = np.zeros((rows,columns))\n",
    "            \n",
    "            Observationmatrix = np.zeros((rows_observation,columns_observation))\n",
    "            for k in range(rows):\n",
    "                for l in range(columns):\n",
    "                    index = 4*k*columns+4*l\n",
    "                    if m==k and n==l:\n",
    "                        O_i[k,l] = 0.1\n",
    "                        for t in range(4):\n",
    "                            Observationmatrix[index+t,index+t] = 0.1\n",
    "                    elif distance((m,n),(k,l)) == 1:\n",
    "                        O_i[k,l] = 0.05\n",
    "                        for t in range(4):\n",
    "                            Observationmatrix[index+t,index+t] = 0.05\n",
    "                    elif distance((m,n),(k,l)) == 2:\n",
    "                        O_i[k,l] = 0.025\n",
    "                        for t in range(4):\n",
    "                            Observationmatrix[index+t,index+t] = 0.025\n",
    "            #print(O_i)   \n",
    "        \n",
    "            O.append(Observationmatrix)\n",
    "    O_i = np.zeros((rows,columns))\n",
    "    for k in range(rows):\n",
    "        for l in range(columns):\n",
    "            index = 4*k*columns+4*l\n",
    "            if l == 0 or l== (columns-1):\n",
    "                if k == 0 or k == (rows-1):\n",
    "                    O_i[k,l] = 0.625\n",
    "                    for t in range(4):\n",
    "                        Observationmatrix[index+t,index+t] = 0.625\n",
    "                else:\n",
    "                    O_i[k,l] = 0.5\n",
    "                    for t in range(4):\n",
    "                        Observationmatrix[index+t,index+t] = 0.5\n",
    "            elif k == 0 or k == (rows-1):\n",
    "                O_i[k,l] = 0.5\n",
    "                for t in range(4):\n",
    "                    Observationmatrix[index+t,index+t] = 0.5\n",
    "            else:\n",
    "                O_i[k,l] = 0.325\n",
    "                for t in range(4):\n",
    "                    Observationmatrix[index+t,index+t] = 0.325\n",
    "    #print(O_i)\n",
    "    O.insert(0, Observationmatrix)\n",
    "                \n",
    "                    \n",
    "                \n",
    "    \n",
    "    right_list = e[0]*columns + e[1]*4 + 1\n",
    "    return O[right_list]\n",
    "        \n",
    "        \n",
    "        \n",
    "\n",
    "    "
   ]
  },
  {
   "cell_type": "code",
   "execution_count": 201,
   "metadata": {
    "ExecuteTime": {
     "end_time": "2018-03-02T11:53:03.935469Z",
     "start_time": "2018-03-02T11:53:03.921346Z"
    },
    "collapsed": false
   },
   "outputs": [
    {
     "name": "stdout",
     "output_type": "stream",
     "text": [
      "[[ 0.4198911 ]\n",
      " [ 0.        ]\n",
      " [ 0.        ]\n",
      " [ 0.4198911 ]\n",
      " [ 0.15745916]\n",
      " [ 0.31491833]\n",
      " [ 0.        ]\n",
      " [ 0.20994555]\n",
      " [ 0.07872958]\n",
      " [ 0.10497278]\n",
      " [ 0.        ]\n",
      " [ 0.15745916]\n",
      " [ 0.        ]\n",
      " [ 0.        ]\n",
      " [ 0.        ]\n",
      " [ 0.        ]\n",
      " [ 0.20994555]\n",
      " [ 0.        ]\n",
      " [ 0.31491833]\n",
      " [ 0.15745916]\n",
      " [ 0.15745916]\n",
      " [ 0.20994555]\n",
      " [ 0.20994555]\n",
      " [ 0.15745916]\n",
      " [ 0.07872958]\n",
      " [ 0.07872958]\n",
      " [ 0.10497278]\n",
      " [ 0.10497278]\n",
      " [ 0.        ]\n",
      " [ 0.        ]\n",
      " [ 0.        ]\n",
      " [ 0.        ]\n",
      " [ 0.10497278]\n",
      " [ 0.        ]\n",
      " [ 0.10497278]\n",
      " [ 0.07872958]\n",
      " [ 0.10497278]\n",
      " [ 0.10497278]\n",
      " [ 0.07872958]\n",
      " [ 0.07872958]\n",
      " [ 0.10497278]\n",
      " [ 0.07872958]\n",
      " [ 0.07872958]\n",
      " [ 0.10497278]\n",
      " [ 0.        ]\n",
      " [ 0.        ]\n",
      " [ 0.        ]\n",
      " [ 0.        ]\n",
      " [ 0.        ]\n",
      " [ 0.        ]\n",
      " [ 0.        ]\n",
      " [ 0.        ]\n",
      " [ 0.        ]\n",
      " [ 0.        ]\n",
      " [ 0.        ]\n",
      " [ 0.        ]\n",
      " [ 0.        ]\n",
      " [ 0.        ]\n",
      " [ 0.        ]\n",
      " [ 0.        ]\n",
      " [ 0.        ]\n",
      " [ 0.        ]\n",
      " [ 0.        ]\n",
      " [ 0.        ]]\n"
     ]
    }
   ],
   "source": [
    "m = 4\n",
    "n = 4\n",
    "dimension = m * n * 4\n",
    "probability = 1/(dimension)\n",
    "f_old = np.array([[probability] for y in range(dimension)])\n",
    "T = transition_matrix(m,n)\n",
    "e = (0,0)\n",
    "print(forward_filtering(e,m,n,f_old,T))"
   ]
  },
  {
   "cell_type": "code",
   "execution_count": 194,
   "metadata": {
    "ExecuteTime": {
     "end_time": "2018-03-02T11:50:05.792279Z",
     "start_time": "2018-03-02T11:50:05.776655Z"
    },
    "collapsed": false
   },
   "outputs": [],
   "source": [
    "def forward_filtering(e,n,m,f_old,T):\n",
    "    '''\n",
    "    description\n",
    "\n",
    "    :param e: the current evidence for time step t (position)\n",
    "    '''\n",
    "    \n",
    "    \n",
    "    f_new = np.dot(np.dot(observation_matrix(e,m,n), T.T),f_old)\n",
    "    f_normalization = f_new / np.linalg.norm(f_new)\n",
    "    \n",
    "\n",
    "    \n",
    "\n",
    "\n",
    "    return f_normalization"
   ]
  }
 ],
 "metadata": {
  "anaconda-cloud": {},
  "kernelspec": {
   "display_name": "Python [conda root]",
   "language": "python",
   "name": "conda-root-py"
  },
  "language_info": {
   "codemirror_mode": {
    "name": "ipython",
    "version": 3
   },
   "file_extension": ".py",
   "mimetype": "text/x-python",
   "name": "python",
   "nbconvert_exporter": "python",
   "pygments_lexer": "ipython3",
   "version": "3.5.2"
  },
  "latex_envs": {
   "LaTeX_envs_menu_present": true,
   "autocomplete": true,
   "bibliofile": "biblio.bib",
   "cite_by": "apalike",
   "current_citInitial": 1,
   "eqLabelWithNumbers": true,
   "eqNumInitial": 1,
   "hotkeys": {
    "equation": "Ctrl-E",
    "itemize": "Ctrl-I"
   },
   "labels_anchors": false,
   "latex_user_defs": false,
   "report_style_numbering": false,
   "user_envs_cfg": false
  },
  "toc": {
   "nav_menu": {},
   "number_sections": false,
   "sideBar": true,
   "skip_h1_title": false,
   "toc_cell": false,
   "toc_position": {},
   "toc_section_display": "block",
   "toc_window_display": false
  },
  "varInspector": {
   "cols": {
    "lenName": 16,
    "lenType": 16,
    "lenVar": 40
   },
   "kernels_config": {
    "python": {
     "delete_cmd_postfix": "",
     "delete_cmd_prefix": "del ",
     "library": "var_list.py",
     "varRefreshCmd": "print(var_dic_list())"
    },
    "r": {
     "delete_cmd_postfix": ") ",
     "delete_cmd_prefix": "rm(",
     "library": "var_list.r",
     "varRefreshCmd": "cat(var_dic_list()) "
    }
   },
   "types_to_exclude": [
    "module",
    "function",
    "builtin_function_or_method",
    "instance",
    "_Feature"
   ],
   "window_display": false
  }
 },
 "nbformat": 4,
 "nbformat_minor": 1
}
