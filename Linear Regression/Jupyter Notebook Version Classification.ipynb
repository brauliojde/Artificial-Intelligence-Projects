{
 "cells": [
  {
   "cell_type": "markdown",
   "metadata": {
    "heading_collapsed": true
   },
   "source": [
    "# Imports\n"
   ]
  },
  {
   "cell_type": "code",
   "execution_count": 1,
   "metadata": {
    "ExecuteTime": {
     "end_time": "2018-02-20T22:09:07.470524Z",
     "start_time": "2018-02-20T22:09:00.295354Z"
    },
    "collapsed": true,
    "hidden": true
   },
   "outputs": [],
   "source": [
    "import matplotlib.pyplot as plt\n",
    "import numpy as np\n",
    "from random import choice\n",
    "from operator import itemgetter\n",
    "from math import exp\n",
    "from math import e"
   ]
  },
  {
   "cell_type": "markdown",
   "metadata": {
    "heading_collapsed": true
   },
   "source": [
    "#  Read Data"
   ]
  },
  {
   "cell_type": "code",
   "execution_count": 6,
   "metadata": {
    "ExecuteTime": {
     "end_time": "2018-02-20T22:09:20.573869Z",
     "start_time": "2018-02-20T22:09:20.564409Z"
    },
    "code_folding": [],
    "collapsed": false,
    "hidden": true
   },
   "outputs": [],
   "source": [
    "def reader():\n",
    "    '''\n",
    "    converts the LIBSVM format into a dictionary, where the points(x1,x2) \n",
    "    are stored as tuple as keys and the class is the value\n",
    "    '''\n",
    "    dictionary = {}\n",
    "    data = open('LIBSVM format.txt', 'r') \n",
    "    for x in data: \n",
    "        x_i = x.split()\n",
    "        classification = int(x_i.pop(0))\n",
    "        for pointset in x_i:\n",
    "            pointset = pointset.split(':')\n",
    "            dictionary[(int(pointset[0]),int(pointset[1]))]=int(classification)\n",
    "    return dictionary\n"
   ]
  },
  {
   "cell_type": "markdown",
   "metadata": {
    "heading_collapsed": true
   },
   "source": [
    "# Linear classification with Perceptron"
   ]
  },
  {
   "cell_type": "markdown",
   "metadata": {
    "heading_collapsed": true,
    "hidden": true
   },
   "source": [
    "## Threshold"
   ]
  },
  {
   "cell_type": "code",
   "execution_count": 90,
   "metadata": {
    "ExecuteTime": {
     "end_time": "2018-02-21T11:13:15.206865Z",
     "start_time": "2018-02-21T11:13:14.493736Z"
    },
    "code_folding": [],
    "collapsed": false,
    "hidden": true
   },
   "outputs": [
    {
     "name": "stderr",
     "output_type": "stream",
     "text": [
      "/Users/ramonabendias/anaconda/lib/python3.5/site-packages/ipykernel/__main__.py:20: FutureWarning: comparison to `None` will result in an elementwise object comparison in the future.\n"
     ]
    },
    {
     "data": {
      "text/plain": [
       "'english'"
      ]
     },
     "execution_count": 90,
     "metadata": {},
     "output_type": "execute_result"
    }
   ],
   "source": [
    "#Test threshold function with an english data set\n",
    "threshold(np.array([15162,990]),class1 = 'english', class0='french')"
   ]
  },
  {
   "cell_type": "code",
   "execution_count": 80,
   "metadata": {
    "ExecuteTime": {
     "end_time": "2018-02-21T10:49:29.074977Z",
     "start_time": "2018-02-21T10:49:29.060986Z"
    },
    "code_folding": [],
    "collapsed": true,
    "hidden": true
   },
   "outputs": [],
   "source": [
    "def threshold(x,w = None, class1 = 1, class0 = 0):\n",
    "    '''\n",
    "    Classifies the point x depending on the actual given linear seperator w\n",
    "    \n",
    "    param x: point \n",
    "    type x: array with x1 and x2 (number of characters, number of A's) \n",
    "    \n",
    "    param w: linear seperator\n",
    "    type w: array with w_0 and w_1\n",
    "    \n",
    "    param class1: name of the class below the linear seperator  (0 > w_0 +w_1*x1-x2)\n",
    "    type class1: eigther {0,1} or a string\n",
    "    \n",
    "    param class0: name of the class above the linear seperator  (0 < w_0 +w_1*x1-x2)\n",
    "    type class1: eigther {0,1} or a string\n",
    "    \n",
    "    return: threshold value (1 or 0) or class name, (w*x)=1 if w*x ≥0 and 0 otherwise (after adding a dummy input to w and x) \n",
    "    '''\n",
    "    \n",
    "    if w == None: \n",
    "        w, miss, t = perceptron_learning() \n",
    "    x = np.insert(x, 0, 1)\n",
    "    w = np.insert(w,2,-1)      # add dummy input\n",
    "    product = np.dot(w.T,x)\n",
    "    if product >= 0:\n",
    "        return class1\n",
    "    else:\n",
    "        return class0"
   ]
  },
  {
   "cell_type": "markdown",
   "metadata": {
    "hidden": true
   },
   "source": [
    "## Stop criterion (Misclassified points)"
   ]
  },
  {
   "cell_type": "code",
   "execution_count": 34,
   "metadata": {
    "ExecuteTime": {
     "end_time": "2018-02-20T22:32:50.607240Z",
     "start_time": "2018-02-20T22:32:50.597221Z"
    },
    "collapsed": true,
    "hidden": true
   },
   "outputs": [],
   "source": [
    "def misclassified(w, dictionary):\n",
    "    '''\n",
    "    Counts the misclassified points \n",
    "    \n",
    "    return miss: number of misclassified points \n",
    "    '''\n",
    "    miss = 0\n",
    "    for x in dictionary:\n",
    "        x_array = np.array([x[0],x[1]])\n",
    "        if dictionary.get(x, 'none') != threshold(x_array,w):\n",
    "            miss += 1\n",
    "    return miss\n",
    "        \n",
    "    "
   ]
  },
  {
   "cell_type": "markdown",
   "metadata": {
    "hidden": true
   },
   "source": [
    "## Perceptron"
   ]
  },
  {
   "cell_type": "code",
   "execution_count": 88,
   "metadata": {
    "ExecuteTime": {
     "end_time": "2018-02-21T10:53:21.538146Z",
     "start_time": "2018-02-21T10:53:21.515241Z"
    },
    "collapsed": false,
    "hidden": true
   },
   "outputs": [],
   "source": [
    "def perceptron_learning(plot = False):\n",
    "    '''\n",
    "    Calculates the seperator line and plots the misclassified points against the number of interations\n",
    "    \n",
    "    param plot: Determines whether to plot the percentage of misclassified points against the number of updated weights or not. \n",
    "    type plot: True or False (default = False)\n",
    "    \n",
    "    return: w (Coefficients of the linear seperator), miss (number of misclassified points), t (number of iterations)\n",
    "    '''\n",
    "    dictionary = reader()  \n",
    "    w = np.array([0,1])         # start line w_1*x + w_0\n",
    "    t = 0                       # number of interations\n",
    "    miss = 15                   #number of misclassified points\n",
    "    miss_percentage = [] \n",
    "    \n",
    "    while miss != 0:                 #until all points are classified correct\n",
    "        alpha = 100/(100+t)*0.0001            # varies learning rate \n",
    "        x = choice(list(dictionary.keys()))   #random point out of dictionary\n",
    "        trueclass = dictionary.get(x, \"none\")\n",
    "        x = np.array([x[0],x[1]])\n",
    "        w = w + alpha*(trueclass - threshold(x,w))*x #updating the weights\n",
    "        t += 1\n",
    "        miss = misclassified(w, dictionary)\n",
    "        miss_percentage.append(1-miss/30)\n",
    "        \n",
    "    t_range = np.arange(1,t+1)\n",
    "    plt.plot(t_range,miss_percentage,'.')\n",
    "    plt.xlabel('number of weight updates')\n",
    "    plt.ylabel('Proportion correct')\n",
    "    if plot == True:\n",
    "        plt.show()\n",
    "    return w, miss, t"
   ]
  },
  {
   "cell_type": "code",
   "execution_count": 86,
   "metadata": {
    "ExecuteTime": {
     "end_time": "2018-02-21T10:52:51.462001Z",
     "start_time": "2018-02-21T10:52:51.436878Z"
    },
    "collapsed": true,
    "hidden": true
   },
   "outputs": [],
   "source": [
    "def plot():\n",
    "    '''\n",
    "    Plots the linear seperator with the training data set\n",
    "    \n",
    "    '''\n",
    "    dictionary = reader()\n",
    "    \n",
    "    max_x1 = max(list(dictionary.keys()),key=itemgetter(1))[0]\n",
    "    \n",
    "    septerator, miss, t = perceptron_learning(plot = False)\n",
    "\n",
    "    x2 = max_x1*septerator[1] + septerator[0]\n",
    "    \n",
    "    plt.plot([0,max_x1], [septerator[0],x2], 'g-')\n",
    "    plt.text(10000, 4000, r'$x_2 \\approx x_1*{}+({})$'.format(format(septerator[1], '.4f'), format(septerator[0], '.4f')))\n",
    "    \n",
    "    for points in dictionary:\n",
    "        if dictionary[points]==1:\n",
    "            plt.plot(points[0],points[1],'r.')\n",
    "        else:\n",
    "            plt.plot(points[0],points[1],'b.')\n",
    "    \n",
    "    plt.xlabel('Characters')\n",
    "    plt.ylabel('A\\'s')\n",
    "    plt.show()\n",
    "    return\n",
    "    \n",
    "    "
   ]
  },
  {
   "cell_type": "code",
   "execution_count": 81,
   "metadata": {
    "ExecuteTime": {
     "end_time": "2018-02-21T10:49:37.080740Z",
     "start_time": "2018-02-21T10:49:36.336342Z"
    },
    "collapsed": false,
    "hidden": true
   },
   "outputs": [
    {
     "name": "stderr",
     "output_type": "stream",
     "text": [
      "/Users/ramonabendias/anaconda/lib/python3.5/site-packages/ipykernel/__main__.py:20: FutureWarning: comparison to `None` will result in an elementwise object comparison in the future.\n"
     ]
    },
    {
     "name": "stdout",
     "output_type": "stream",
     "text": [
      "0\n"
     ]
    },
    {
     "data": {
      "image/png": "[encoded data removed]",
      "text/plain": [
       "<matplotlib.figure.Figure at 0x11612b940>"
      ]
     },
     "metadata": {},
     "output_type": "display_data"
    },
    {
     "data": {
      "text/plain": [
       "(array([-4.57158677,  0.06644167]), 0, 455)"
      ]
     },
     "execution_count": 81,
     "metadata": {},
     "output_type": "execute_result"
    }
   ],
   "source": [
    "#test \n",
    "perceptron_learning(plot=True)"
   ]
  },
  {
   "cell_type": "code",
   "execution_count": 89,
   "metadata": {
    "ExecuteTime": {
     "end_time": "2018-02-21T10:53:25.847431Z",
     "start_time": "2018-02-21T10:53:23.871266Z"
    },
    "collapsed": false,
    "hidden": true
   },
   "outputs": [
    {
     "name": "stderr",
     "output_type": "stream",
     "text": [
      "/Users/ramonabendias/anaconda/lib/python3.5/site-packages/ipykernel/__main__.py:20: FutureWarning: comparison to `None` will result in an elementwise object comparison in the future.\n"
     ]
    },
    {
     "data": {
      "image/png": "[encoded data removed]",
      "text/plain": [
       "<matplotlib.figure.Figure at 0x11839dc88>"
      ]
     },
     "metadata": {},
     "output_type": "display_data"
    }
   ],
   "source": [
    "#test\n",
    "plot()"
   ]
  },
  {
   "cell_type": "markdown",
   "metadata": {},
   "source": [
    "# Logistic Regression"
   ]
  },
  {
   "cell_type": "markdown",
   "metadata": {
    "heading_collapsed": true
   },
   "source": [
    "## Classifier (User)"
   ]
  },
  {
   "cell_type": "code",
   "execution_count": 96,
   "metadata": {
    "ExecuteTime": {
     "end_time": "2018-02-21T11:37:37.828821Z",
     "start_time": "2018-02-21T11:37:35.516551Z"
    },
    "collapsed": false,
    "hidden": true
   },
   "outputs": [
    {
     "data": {
      "text/plain": [
       "'english'"
      ]
     },
     "execution_count": 96,
     "metadata": {},
     "output_type": "execute_result"
    }
   ],
   "source": [
    "#Test threshold function with an english data set\n",
    "user_classification(np.array([15162,990]),class1 = 'english', class0='french')"
   ]
  },
  {
   "cell_type": "code",
   "execution_count": 97,
   "metadata": {
    "ExecuteTime": {
     "end_time": "2018-02-21T11:37:37.957592Z",
     "start_time": "2018-02-21T11:37:37.921682Z"
    },
    "collapsed": true,
    "hidden": true
   },
   "outputs": [],
   "source": [
    "def user_classification(x,class1=1,class0 = 0, gradient_ascent='stochastic'):\n",
    "    '''\n",
    "    determines the class of the point x \n",
    "     \n",
    "    param x: point which should be classified \n",
    "    type x: array with x1 and x2 (number of characters, number of A's) or None \n",
    "    \n",
    "    param gradient_ascent: stochastic or batch gradient ascent (default = stochastic)\n",
    "    type gradient_ascent: string (whether stochastic or batch)\n",
    "    \n",
    "    return: class \n",
    "    '''\n",
    "    \n",
    "    dictionary = reader()\n",
    "    w, error, t = logistic_regression(gradient_ascent)\n",
    "    w = np.insert(w,2,-1) \n",
    "    x_extended = np.insert(x, 0, 1)\n",
    "    try: \n",
    "        if (1/(1+exp(-np.dot(w.T,x_extended)))) > 0.5:\n",
    "            classification = class1         \n",
    "    except OverflowError:\n",
    "        if -np.dot(w.T,x_extended) > 0 and trueclass == 1:\n",
    "            classification = class0\n",
    "    return classification"
   ]
  },
  {
   "cell_type": "markdown",
   "metadata": {},
   "source": [
    "## Derivative of the likelihood"
   ]
  },
  {
   "cell_type": "code",
   "execution_count": 2,
   "metadata": {
    "ExecuteTime": {
     "end_time": "2018-02-20T22:09:07.667047Z",
     "start_time": "2018-02-20T22:09:07.592374Z"
    },
    "collapsed": false
   },
   "outputs": [],
   "source": [
    "def derivatives_of_the_likelihood(w,x, dictionary, gradient_ascent = 'stochastic', printing=None):\n",
    "    '''\n",
    "    Calculates the derivatives of the likelihood either either one or more dimensional\n",
    "    \n",
    "    param gradient_ascent: stochastic or batch gradient ascent (default = stochastic)\n",
    "    type gradient_ascent: string (whether stochastic or batch)\n",
    "    \n",
    "    returns: the derivative as numpy array\n",
    "    '''\n",
    "    \n",
    "    w = np.insert(w,2,-1)    \n",
    "    \n",
    "    #--- stochastic ---\n",
    "    if gradient_ascent == 'stochastic':\n",
    "        trueclass = dictionary.get((x[0],x[1]), \"none\")\n",
    "        x_extended = np.insert(x, 0, 1)\n",
    "        try: \n",
    "            derivative = x*(trueclass-1/(1+exp(-np.dot(w.T,x_extended)))) \n",
    "        except OverflowError:   \n",
    "            if -np.dot(w.T,x_extended) >0:\n",
    "                derivative = x*(trueclass-0)\n",
    "            else: \n",
    "                derivative = x*(trueclass-1)\n",
    "    \n",
    "    \n",
    "    \n",
    "    #--- batch ---\n",
    "    else:\n",
    "        derivative = np.array([0,0])\n",
    "        for x in dictionary:\n",
    "            trueclass = dictionary.get(x, \"none\")\n",
    "            x = np.array([x[0],x[1]])\n",
    "            x_extended = np.insert(x, 0, 1)\n",
    "            try: \n",
    "                derivative = np.add(derivative, x*(trueclass-1/(1+exp(-np.dot(w.T,x_extended)))) , out=derivative, casting=\"unsafe\") \n",
    "            except OverflowError:\n",
    "                if -np.dot(w.T,x_extended) >0:\n",
    "    \n",
    "                    derivative = np.add(derivative, x*(trueclass-0), out=derivative, casting=\"unsafe\")\n",
    "                else: \n",
    "                    derivative = np.add(derivative, x*(trueclass-1), out=derivative, casting=\"unsafe\")\n",
    "    return derivative"
   ]
  },
  {
   "cell_type": "markdown",
   "metadata": {},
   "source": [
    "## logistic regression algorithm "
   ]
  },
  {
   "cell_type": "code",
   "execution_count": 104,
   "metadata": {
    "ExecuteTime": {
     "end_time": "2018-02-21T12:20:44.266454Z",
     "start_time": "2018-02-21T12:20:44.242067Z"
    },
    "code_folding": [],
    "collapsed": true
   },
   "outputs": [],
   "source": [
    "def logistic_regression(gradient_ascent='stochastic', plot =False):\n",
    "    '''\n",
    "    The logistic regression function determines the linear seperator with a logistic threshold function\n",
    "    \n",
    "    param gradient_ascent: stochastic or batch gradient ascent (default = stochastic)\n",
    "    type gradient_ascent: string (whether stochastic or batch)\n",
    "    \n",
    "    param plot: Determines whether to plot the percentage of misclassified points against the number of updated weights or not. \n",
    "    type plot: True or False (default = False)\n",
    "    \n",
    "    returns: the seperator w, the last calculated error (norm of the derivative), the number of iterations t or class of the \n",
    "    '''\n",
    "    dictionary = reader()  \n",
    "    w = np.array([0,1]) # start line w_1*x + w_0\n",
    "    t = 0    # number of interations\n",
    "    error = np.inf\n",
    "    miss_percentage = []\n",
    "    while t < 10000:      # until 100% classified correct\n",
    "        alpha = 100/(100+t)*0.0001\n",
    "        x = choice(list(dictionary.keys()))\n",
    "        x = np.array([x[0],x[1]])\n",
    "        w = w + alpha*derivatives_of_the_likelihood(w,x, dictionary, gradient_ascent)  # update weight\n",
    "        \n",
    "       \n",
    "        error= np.linalg.norm(derivatives_of_the_likelihood(w,x,dictionary, gradient_ascent='batch' ))\n",
    "        t +=1 \n",
    "        miss_percentage.append(1-misclassified_logistic(w)/30)\n",
    "    \n",
    "    \n",
    "    if plot == True:\n",
    "        t_range = np.arange(1,t+1)\n",
    "        plt.plot(t_range,miss_percentage,'.')\n",
    "        plt.xlabel('number of weight updates')\n",
    "        plt.ylabel('Proportion correct')\n",
    "        plt.show()\n",
    "    return w, error, t"
   ]
  },
  {
   "cell_type": "code",
   "execution_count": 105,
   "metadata": {
    "ExecuteTime": {
     "end_time": "2018-02-21T12:21:03.550573Z",
     "start_time": "2018-02-21T12:20:45.739620Z"
    },
    "collapsed": false
   },
   "outputs": [
    {
     "data": {
      "image/png": "[encoded data removed]",
      "text/plain": [
       "<matplotlib.figure.Figure at 0x11a3e7f98>"
      ]
     },
     "metadata": {},
     "output_type": "display_data"
    },
    {
     "data": {
      "text/plain": [
       "(array([-1.97417688,  0.06597144]), 2.0, 10000)"
      ]
     },
     "execution_count": 105,
     "metadata": {},
     "output_type": "execute_result"
    }
   ],
   "source": [
    "#test logistic regression with plot\n",
    "logistic_regression(plot=True) "
   ]
  },
  {
   "cell_type": "markdown",
   "metadata": {
    "heading_collapsed": true
   },
   "source": [
    "## Misclassified points"
   ]
  },
  {
   "cell_type": "code",
   "execution_count": 91,
   "metadata": {
    "ExecuteTime": {
     "end_time": "2018-02-21T11:26:47.175862Z",
     "start_time": "2018-02-21T11:26:47.133457Z"
    },
    "collapsed": false,
    "hidden": true
   },
   "outputs": [],
   "source": [
    "def misclassified_logistic(w):\n",
    "    \n",
    "    dictionary = reader()\n",
    "    miss = 0 \n",
    "    w = np.insert(w,2,-1) \n",
    "    for x in dictionary:\n",
    "        trueclass = dictionary.get(x, \"none\")\n",
    "        x = np.array([x[0],x[1]])\n",
    "        x_extended = np.insert(x, 0, 1)\n",
    "    \n",
    "        try: \n",
    "            if (1/(1+exp(-np.dot(w.T,x_extended)))) > 0.5 and trueclass == 0:\n",
    "                miss +=1           \n",
    "            \n",
    "        except OverflowError:\n",
    "            if -np.dot(w.T,x_extended) > 0 and trueclass == 1:\n",
    "                miss +=1\n",
    "\n",
    "    return miss"
   ]
  }
 ],
 "metadata": {
  "anaconda-cloud": {},
  "kernelspec": {
   "display_name": "Python [conda root]",
   "language": "python",
   "name": "conda-root-py"
  },
  "language_info": {
   "codemirror_mode": {
    "name": "ipython",
    "version": 3
   },
   "file_extension": ".py",
   "mimetype": "text/x-python",
   "name": "python",
   "nbconvert_exporter": "python",
   "pygments_lexer": "ipython3",
   "version": "3.5.2"
  },
  "latex_envs": {
   "LaTeX_envs_menu_present": true,
   "autocomplete": true,
   "bibliofile": "biblio.bib",
   "cite_by": "number",
   "current_citInitial": 1,
   "eqLabelWithNumbers": true,
   "eqNumInitial": 1,
   "hotkeys": {
    "equation": "Ctrl-E",
    "itemize": "Ctrl-I"
   },
   "labels_anchors": false,
   "latex_user_defs": false,
   "report_style_numbering": false,
   "user_envs_cfg": false
  },
  "toc": {
   "nav_menu": {},
   "number_sections": false,
   "sideBar": true,
   "skip_h1_title": false,
   "toc_cell": false,
   "toc_position": {},
   "toc_section_display": "block",
   "toc_window_display": true
  },
  "varInspector": {
   "cols": {
    "lenName": 16,
    "lenType": 16,
    "lenVar": 40
   },
   "kernels_config": {
    "python": {
     "delete_cmd_postfix": "",
     "delete_cmd_prefix": "del ",
     "library": "var_list.py",
     "varRefreshCmd": "print(var_dic_list())"
    },
    "r": {
     "delete_cmd_postfix": ") ",
     "delete_cmd_prefix": "rm(",
     "library": "var_list.r",
     "varRefreshCmd": "cat(var_dic_list()) "
    }
   },
   "types_to_exclude": [
    "module",
    "function",
    "builtin_function_or_method",
    "instance",
    "_Feature"
   ],
   "window_display": false
  }
 },
 "nbformat": 4,
 "nbformat_minor": 1
}
